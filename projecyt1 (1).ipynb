{
  "nbformat": 4,
  "nbformat_minor": 0,
  "metadata": {
    "colab": {
      "name": "projecyt1.ipynb",
      "provenance": []
    },
    "kernelspec": {
      "name": "python3",
      "display_name": "Python 3"
    }
  },
  "cells": [
    {
      "cell_type": "code",
      "metadata": {
        "id": "pFX4rjIbYufe",
        "colab_type": "code",
        "colab": {
          "base_uri": "https://localhost:8080/",
          "height": 69
        },
        "outputId": "30639241-4738-462e-c478-e845207512fa"
      },
      "source": [
        "contact= {} # empty dict object is taken\n",
        "# lets create a function to add contact details\n",
        "def addcontact(name,phone):\n",
        "    if name not in contact:\n",
        "        contact[name] = phone\n",
        "        print('contact added successfully')\n",
        "    else:\n",
        "        print('name already existed')\n",
        "    return\n",
        "addcontact('teja','9347433800')\n",
        "addcontact('raja','9490403775')\n",
        "print(contact)\n",
        "            "
      ],
      "execution_count": 12,
      "outputs": [
        {
          "output_type": "stream",
          "text": [
            "contact added successfully\n",
            "contact added successfully\n",
            "{'teja': '9347433800', 'raja': '9490403775'}\n"
          ],
          "name": "stdout"
        }
      ]
    },
    {
      "cell_type": "code",
      "metadata": {
        "id": "yJiP5uscchYA",
        "colab_type": "code",
        "colab": {}
      },
      "source": [
        "def  delete(name):\n",
        "  if name not in contact:\n",
        "    print(\"contact doesnt exist\")\n",
        "  else:\n",
        "    del contact[name]\n",
        "    print(\"successfully deleted\")"
      ],
      "execution_count": 0,
      "outputs": []
    },
    {
      "cell_type": "code",
      "metadata": {
        "id": "IFbHdf9KccPy",
        "colab_type": "code",
        "colab": {
          "base_uri": "https://localhost:8080/",
          "height": 34
        },
        "outputId": "39574b8e-c8a2-46ef-a580-6a1513b7df6c"
      },
      "source": [
        "def searchcontact(name):\n",
        "    if name not in contact:\n",
        "        print(name,\": \",contact[name])\n",
        "    else:\n",
        "        print(name,'does not present')  \n",
        "    return\n",
        "searchcontact('teja')"
      ],
      "execution_count": 13,
      "outputs": [
        {
          "output_type": "stream",
          "text": [
            "teja does not present\n"
          ],
          "name": "stdout"
        }
      ]
    },
    {
      "cell_type": "code",
      "metadata": {
        "id": "So4iUlLOY_R_",
        "colab_type": "code",
        "colab": {
          "base_uri": "https://localhost:8080/",
          "height": 52
        },
        "outputId": "5e8807ae-040e-49f6-e44d-efeae4b9cf12"
      },
      "source": [
        "def modifycontact(name, phone):\n",
        "  if name not in contact:\n",
        "    contact[name] = phone\n",
        "    print(name,'sucessfully updated')\n",
        "  else:\n",
        "    print(name,'not exist')\n",
        "  return\n",
        "modifycontact('sara',6110525638)\n",
        "modifycontact('yura',6500861140)"
      ],
      "execution_count": 17,
      "outputs": [
        {
          "output_type": "stream",
          "text": [
            "sara sucessfully updated\n",
            "yura sucessfully updated\n"
          ],
          "name": "stdout"
        }
      ]
    },
    {
      "cell_type": "code",
      "metadata": {
        "id": "_LXLChknctXs",
        "colab_type": "code",
        "colab": {}
      },
      "source": [
        ""
      ],
      "execution_count": 0,
      "outputs": []
    }
  ]
}